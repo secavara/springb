{
 "cells": [
  {
   "cell_type": "markdown",
   "metadata": {},
   "source": [
    "# What is the True Normal Human Body Temperature? \n",
    "\n",
    "#### Background\n",
    "\n",
    "The mean normal body temperature was held to be 37$^{\\circ}$C or 98.6$^{\\circ}$F for more than 120 years since it was first conceptualized and reported by Carl Wunderlich in a famous 1868 book. But, is this value statistically correct?"
   ]
  },
  {
   "cell_type": "markdown",
   "metadata": {},
   "source": [
    "<h3>Exercises</h3>\n",
    "\n",
    "<p>In this exercise, you will analyze a dataset of human body temperatures and employ the concepts of hypothesis testing, confidence intervals, and statistical significance.</p>\n",
    "\n",
    "<p>Answer the following questions <b>in this notebook below and submit to your Github account</b>.</p> \n",
    "\n",
    "<ol>\n",
    "<li>  Is the distribution of body temperatures normal? \n",
    "    <ul>\n",
    "    <li> Although this is not a requirement for the Central Limit Theorem to hold (read the introduction on Wikipedia's page about the CLT carefully: https://en.wikipedia.org/wiki/Central_limit_theorem ), it gives us some peace of mind that the population may also be normally distributed if we assume that this sample is representative of the population.\n",
    "    <li> Think about the way you're going to check for the normality of the distribution. Graphical methods are usually used first, but there are also other ways: https://en.wikipedia.org/wiki/Normality_test\n",
    "    </ul>\n",
    "<li>  Is the sample size large? Are the observations independent?\n",
    "    <ul>\n",
    "    <li> Remember that this is a condition for the Central Limit Theorem, and hence the statistical tests we are using, to apply.\n",
    "    </ul>\n",
    "<li>  Is the true population mean really 98.6 degrees F?\n",
    "    <ul>\n",
    "    <li> First, try a bootstrap hypothesis test.\n",
    "    <li> Now, let's try frequentist statistical testing. Would you use a one-sample or two-sample test? Why?\n",
    "    <li> In this situation, is it appropriate to use the $t$ or $z$ statistic? \n",
    "    <li> Now try using the other test. How is the result different? Why?\n",
    "    </ul>\n",
    "<li>  Draw a small sample of size 10 from the data and repeat both frequentist tests. \n",
    "    <ul>\n",
    "    <li> Which one is the correct one to use? \n",
    "    <li> What do you notice? What does this tell you about the difference in application of the $t$ and $z$ statistic?\n",
    "    </ul>\n",
    "<li>  At what temperature should we consider someone's temperature to be \"abnormal\"?\n",
    "    <ul>\n",
    "    <li> As in the previous example, try calculating everything using the boostrap approach, as well as the frequentist approach.\n",
    "    <li> Start by computing the margin of error and confidence interval. When calculating the confidence interval, keep in mind that you should use the appropriate formula for one draw, and not N draws.\n",
    "    </ul>\n",
    "<li>  Is there a significant difference between males and females in normal temperature?\n",
    "    <ul>\n",
    "    <li> What testing approach did you use and why?\n",
    "    <li> Write a story with your conclusion in the context of the original problem.\n",
    "    </ul>\n",
    "</ol>\n",
    "\n",
    "You can include written notes in notebook cells using Markdown: \n",
    "   - In the control panel at the top, choose Cell > Cell Type > Markdown\n",
    "   - Markdown syntax: http://nestacms.com/docs/creating-content/markdown-cheat-sheet\n",
    "\n",
    "#### Resources\n",
    "\n",
    "+ Information and data sources: http://www.amstat.org/publications/jse/datasets/normtemp.txt, http://www.amstat.org/publications/jse/jse_data_archive.htm\n",
    "+ Markdown syntax: http://nestacms.com/docs/creating-content/markdown-cheat-sheet\n",
    "\n",
    "****"
   ]
  },
  {
   "cell_type": "code",
   "execution_count": 1,
   "metadata": {},
   "outputs": [
    {
     "data": {
      "text/plain": [
       "Index(['temperature', 'gender', 'heart_rate'], dtype='object')"
      ]
     },
     "execution_count": 1,
     "metadata": {},
     "output_type": "execute_result"
    }
   ],
   "source": [
    "import pandas as pd\n",
    "import numpy as np\n",
    "import matplotlib.pyplot as plt\n",
    "import seaborn as sns\n",
    "import scipy.stats as stats\n",
    "\n",
    "df = pd.read_csv('data/human_body_temperature.csv')\n",
    "\n",
    "df.columns"
   ]
  },
  {
   "cell_type": "markdown",
   "metadata": {},
   "source": [
    "1. Let us study the data for normal temperature. We can find some info directly from the dataframe column:"
   ]
  },
  {
   "cell_type": "code",
   "execution_count": 2,
   "metadata": {},
   "outputs": [
    {
     "data": {
      "text/plain": [
       "count    130.000000\n",
       "mean      98.249231\n",
       "std        0.733183\n",
       "min       96.300000\n",
       "25%       97.800000\n",
       "50%       98.300000\n",
       "75%       98.700000\n",
       "max      100.800000\n",
       "Name: temperature, dtype: float64"
      ]
     },
     "execution_count": 2,
     "metadata": {},
     "output_type": "execute_result"
    }
   ],
   "source": [
    "df['temperature'].describe()"
   ]
  },
  {
   "cell_type": "markdown",
   "metadata": {},
   "source": [
    "We do have some values that are outside the conventional normal temperature range (from 97 °F to 100.4 °F), but since we are precisely studying these bounds and their average, we shall keep them in our data sets:"
   ]
  },
  {
   "cell_type": "code",
   "execution_count": 3,
   "metadata": {},
   "outputs": [
    {
     "data": {
      "text/plain": [
       "125     96.3\n",
       "39      96.4\n",
       "11      96.7\n",
       "105     96.7\n",
       "95      96.8\n",
       "42      96.9\n",
       "116    100.8\n",
       "Name: temperature, dtype: float64"
      ]
     },
     "execution_count": 3,
     "metadata": {},
     "output_type": "execute_result"
    }
   ],
   "source": [
    "df['temperature'][(df['temperature']>100.4) | (df['temperature']<97)].sort_values()"
   ]
  },
  {
   "cell_type": "markdown",
   "metadata": {},
   "source": [
    "Let us store some basic estimators of these data, like its average $\\hat{\\mu}$, standard deviation $s$, as well as the number of data points $n$. Using these estimators, we can build an associated normal distribution with the same mean and standard deviation. We will explore whether such distribution models accurately our data set."
   ]
  },
  {
   "cell_type": "code",
   "execution_count": 4,
   "metadata": {},
   "outputs": [],
   "source": [
    "mu_sample = np.mean(df['temperature'])\n",
    "\n",
    "std_sample = np.std(df['temperature'],ddof=1)\n",
    "\n",
    "n = len(df['temperature'])\n",
    "\n",
    "theo_normal = stats.norm.rvs(mu_sample,std_sample,10000)"
   ]
  },
  {
   "cell_type": "markdown",
   "metadata": {},
   "source": [
    "Here we introduce a couple of useful functions. `num_bins(data)` computes the number of bins for a histogram of data according to the Freedman–Diaconis rule, while `ecdf(data)` computes the empirical distribution function (ECDF) for a one-dimensional array of measurements."
   ]
  },
  {
   "cell_type": "code",
   "execution_count": 5,
   "metadata": {},
   "outputs": [],
   "source": [
    "def num_bins(data):\n",
    "    \"\"\"Computes the number of bins for a histogram of data according to the Freedman–Diaconis rule.\"\"\"\n",
    "    \n",
    "    # Computes the interquartile range:\n",
    "    iqr = np.percentile(data,75)-np.percentile(data,25)\n",
    "    \n",
    "    # Computes the bin size according to the Freedman–Diaconis rule:\n",
    "    bin_size = 2*iqr/(len(data)**(1/3))\n",
    "    \n",
    "    #Computes the number of bins:\n",
    "    n_bins = int((max(data)-min(data))/bin_size)\n",
    "    \n",
    "    return n_bins"
   ]
  },
  {
   "cell_type": "code",
   "execution_count": 6,
   "metadata": {},
   "outputs": [],
   "source": [
    "def ecdf(data):\n",
    "    \"\"\"Computes the empirical cumulative distribution function (ECDF) for a one-dimensional array of measurements.\"\"\"\n",
    "    # sorts data: x\n",
    "    x = np.sort(data) \n",
    "\n",
    "    # computes the ECDF: y\n",
    "    y = np.arange(1, len(data) +1) / len(data)\n",
    "\n",
    "    return x, y"
   ]
  },
  {
   "cell_type": "markdown",
   "metadata": {},
   "source": [
    "Here we plot both the probability and empirical cumulative distribution functions for the data sample and the associated normal distribution. While an apparent similarity between the PDFs is not necesarilly a sufficient indicator of the normality of the data sample, we also find that the ECDFs are close, implying that there are no substantial differences in both location and shape of the cumulative distribution of the data. This amounts to a graphical Kolmogorov–Smirnov test."
   ]
  },
  {
   "cell_type": "code",
   "execution_count": 7,
   "metadata": {},
   "outputs": [
    {
     "name": "stderr",
     "output_type": "stream",
     "text": [
      "C:\\Users\\scvargas\\Anaconda3\\lib\\site-packages\\matplotlib\\axes\\_axes.py:6462: UserWarning: The 'normed' kwarg is deprecated, and has been replaced by the 'density' kwarg.\n",
      "  warnings.warn(\"The 'normed' kwarg is deprecated, and has been \"\n",
      "C:\\Users\\scvargas\\Anaconda3\\lib\\site-packages\\matplotlib\\axes\\_axes.py:6462: UserWarning: The 'normed' kwarg is deprecated, and has been replaced by the 'density' kwarg.\n",
      "  warnings.warn(\"The 'normed' kwarg is deprecated, and has been \"\n"
     ]
    },
    {
     "data": {
      "image/png": "[encoded data removed]",
      "text/plain": [
       "<Figure size 432x288 with 2 Axes>"
      ]
     },
     "metadata": {},
     "output_type": "display_data"
    }
   ],
   "source": [
    "plt.subplot(1, 2, 1)\n",
    "\n",
    "_ = plt.hist(df['temperature'], normed=True, bins=num_bins(df['temperature']), color='blue', alpha = 0.3)\n",
    "_ = plt.hist(theo_normal, normed=1, bins=num_bins(df['temperature']), color='red', alpha = 0.9, histtype = 'step')\n",
    "_ = plt.legend(('Theo','Data'), loc='upper left')\n",
    "_ = plt.xlabel('Temperature (°F)')\n",
    "_ = plt.ylabel('PDF')\n",
    "_ = plt.margins(0.02)\n",
    "\n",
    "\n",
    "plt.subplot(1, 2, 2)\n",
    "\n",
    "x_set, y_set = ecdf(df['temperature'])\n",
    "x_theo, y_theo = ecdf(theo_normal)\n",
    "\n",
    "_ = plt.plot(x_set, y_set, color='blue')\n",
    "_ = plt.plot(x_theo, y_theo, color='red', alpha=0.7)\n",
    "_ = plt.legend(('Data', 'Theo'), loc='lower right')\n",
    "_ = plt.xlabel('Temperature (°F)')\n",
    "_ = plt.ylabel('ECDF')\n",
    "_ = plt.margins(0.02)\n",
    "\n",
    "plt.tight_layout()\n",
    "\n",
    "plt.show()\n",
    "\n",
    "#plt.show()"
   ]
  },
  {
   "cell_type": "markdown",
   "metadata": {},
   "source": [
    "Another possible graphical test is a Q-Q plot, which plots quantiles of the sample and the theoretical distribution against each other. In this case, it also provides additional evidence for an anormal behavior of an outlier with the highest temperature:"
   ]
  },
  {
   "cell_type": "code",
   "execution_count": 8,
   "metadata": {},
   "outputs": [
    {
     "data": {
      "image/png": "[encoded data removed]",
      "text/plain": [
       "<Figure size 432x288 with 1 Axes>"
      ]
     },
     "metadata": {},
     "output_type": "display_data"
    }
   ],
   "source": [
    "stats.probplot(df['temperature'], dist=\"norm\", plot=plt, rvalue=True)\n",
    "plt.legend(('Data', 'Theo'), loc='upper left')\n",
    "plt.show()"
   ]
  },
  {
   "cell_type": "markdown",
   "metadata": {},
   "source": [
    "2. Using the rule of thumb, $n > 30$, we can say we are working with a large sample. We have found evidence for it being normally distributed. We can also say the data is independent if we safely consider that the population of this problem is greater than 10 times the sample, which is particularly true if we are attempting to estimate a parameter of the 1990's world population. This fact allows us to claim independency even if there was sampling with no replacement. We do not have complete information on the randomness of the parent data (see [here](http://ww2.amstat.org/publications/jse/v4n2/datasets.shoemaker.html) for more information) and this factor may play a role in our final analysis. Nevertheless, for the porpuse of hypthesis testing, we will assume that the sample was obtained randomly.\n",
    "\n",
    "\n",
    "3. The null hypothesis is $\\mu = \\mu_0 = 98.6 $ °F. Considering our first obervations of the data, we may take the alternative hypothesis to be $\\mu < \\mu_0$. Let us consider a significance level of $\\alpha = 0.05$. Right away we can find some evidence for the rejection of the null hypothesis by checking the 95% confidence interval for $n$ draws:"
   ]
  },
  {
   "cell_type": "code",
   "execution_count": 9,
   "metadata": {},
   "outputs": [
    {
     "data": {
      "text/plain": [
       "(98.12319642818166, 98.3752651102799)"
      ]
     },
     "execution_count": 9,
     "metadata": {},
     "output_type": "execute_result"
    }
   ],
   "source": [
    "stats.norm.interval(0.95, loc=mu_sample, scale=std_sample/n**(1/2))"
   ]
  },
  {
   "cell_type": "markdown",
   "metadata": {},
   "source": [
    "This indicates that, assuming a large, random, independent and normal sample, the null hypothesis mean $\\mu_0$ lays outside the 95% confidence interval. Later we will explore this in more depth.\n",
    "\n",
    "For a bootstrap hypothesis test, we draw a sample of bootstrap replicates with the mean as statistic target."
   ]
  },
  {
   "cell_type": "code",
   "execution_count": 10,
   "metadata": {},
   "outputs": [],
   "source": [
    "def bootstrap_replicate_1d(data, func):\n",
    "    return func(np.random.choice(data, size=len(data)))\n",
    "\n",
    "def draw_bs_reps(data, func, size=1):\n",
    "    \"\"\"Draw bootstrap replicates.\"\"\"\n",
    "\n",
    "    # Initialize array of replicates: bs_replicates\n",
    "    bs_replicates = np.empty(size)\n",
    "\n",
    "    # Generate replicates\n",
    "    for i in range(size):\n",
    "        bs_replicates[i] = bootstrap_replicate_1d(data, func)\n",
    "\n",
    "    return bs_replicates"
   ]
  },
  {
   "cell_type": "markdown",
   "metadata": {},
   "source": [
    "We find that the null hypothesis mean is not even in the 95% confidence interval of the bootstraps replicates. Assuming that the data collected is not spurious, we would be forced to reject the null hypothesis. We can also see this by computing a $p$-value for the hypthesis testing. In order to do this we: 1) produce a translated sample from the data that has the null hypothesis mean, 2) draw bootstrap replicates from this set with the mean as statistic and 3) compute the fraction of replicates with mean lower or equal than the measured mean. As expected, the $p$-value basically vanishes."
   ]
  },
  {
   "cell_type": "code",
   "execution_count": 11,
   "metadata": {},
   "outputs": [
    {
     "name": "stdout",
     "output_type": "stream",
     "text": [
      "p =  0.0\n"
     ]
    }
   ],
   "source": [
    "temp_array = df['temperature'].values\n",
    "\n",
    "# Make an array of translated temperatures\n",
    "translated_temp_array = temp_array - mu_sample + 98.6\n",
    "\n",
    "# Take bootstrap replicates of translated_temp_array\n",
    "bs_replicates = draw_bs_reps(translated_temp_array, np.mean, 10000)\n",
    "\n",
    "# Compute fraction of replicates that are less or equal to the observed mean temperature: p\n",
    "p_val_0 = np.sum(bs_replicates <= np.mean(temp_array)) / len(bs_replicates)\n",
    "\n",
    "# Print the p-value\n",
    "print('p = ', p_val_0)"
   ]
  },
  {
   "cell_type": "markdown",
   "metadata": {},
   "source": [
    "Now we can use a frequentist approach. Since we have concluded that the data set is approximately normal, independent and random, as well as large, we can resort to the hypothesis testing methods of z-statistics. The null hypothesis states that the true mean of the population is some specific value. The natural testing method is then the one-sample test, as we have no reason to divide the sample in subcategories (yet) to compare their mean, nor we have an additional sample.\n",
    "\n",
    "Let us follow the z-statistics approach. The number $z$ of standard errors $\\sigma_\\mu$ between the the estimator for the mean $\\hat{\\mu}$ and the null hypothesis value $\\mu_0$ is given by\n",
    "\\begin{equation}\n",
    "z = \\frac{\\hat{\\mu} - \\mu_0}{\\sigma_\\hat{\\mu}} \\, ,\n",
    "\\end{equation}\n",
    "where\n",
    "\\begin{equation}\n",
    "\\sigma_\\hat{\\mu} = \\frac{\\sigma}{\\sqrt{n}} \\approx \\frac{s}{\\sqrt{n}} \\, .\n",
    "\\end{equation}\n",
    "Here we make the distintion between the standard deviation of the population $\\sigma$ and the standard deviation of the sample $s$. We do not have access to $\\sigma$ but we approximate it with $s$ following the assumption of a sufficiently large set. $n$, as usual, corresponds to the size of the sample.\n",
    "\n",
    "Following the assumption of a normal distribution, we can use $z$ to compute a $p$-value or, alternatively, an acceptance/rejection region given $\\alpha$. In this case, we have a sample mean $\\hat{\\mu}$ well below the null value $\\mu_0$, leading to $z < 0$. Hence, if we want to compute a $p$-value, we are interested in the *one-tail* region that corresponds to values lower or equal to $z$ in a normal distribution with mean $0$ and unit standard deviation. We can compute this by direct integration or with $p =$ `stats.norm.sf(abs(z))`.\n",
    "\n",
    "On the other hand, we can use the level of significance $\\alpha = 0.05$ and find a rejection bound with $z_\\alpha$ = `stats.norm.ppf(.95)`. We may use this value to define a rejection region defined by RR $= \\left\\{ z : z < - z_\\alpha \\right\\}$. This gives an *upper confidence bound* $\\hat{\\mu} + z_\\alpha \\, \\sigma_\\hat{\\mu}$, which, if surpassed by $\\mu_0$, forces us to reject the null hypothesis.\n"
   ]
  },
  {
   "cell_type": "code",
   "execution_count": 12,
   "metadata": {},
   "outputs": [
    {
     "name": "stdout",
     "output_type": "stream",
     "text": [
      "The standard error is 0.06430441683789101 °F.\n",
      "The z-statistic is  -5.454823292364079 .\n",
      "The corresponding p-value is  2.45107850705669e-08 .\n",
      "The upper confidence bound for a level of significance of 0.05 is  98.35500212249558 °F.\n",
      "This corresponds to a rejection bound z_alpha of 1.6448536269514722 .\n"
     ]
    }
   ],
   "source": [
    "mu_0 = 98.6\n",
    "\n",
    "standard_error = std_sample / n**(1/2)\n",
    "\n",
    "z = (mu_sample - mu_0) / standard_error\n",
    "\n",
    "p_val = stats.norm.sf(abs(z))\n",
    "                        \n",
    "z_alpha = stats.norm.ppf(.95)\n",
    "                        \n",
    "upper_confidence_bound = mu_sample + z_alpha * standard_error\n",
    "\n",
    "print('The standard error is', standard_error, '°F.')\n",
    "print('The z-statistic is ', z , '.')\n",
    "print('The corresponding p-value is ', p_val , '.')\n",
    "print('The upper confidence bound for a level of significance of 0.05 is ', upper_confidence_bound , '°F.')\n",
    "print('This corresponds to a rejection bound z_alpha of', z_alpha, '.')"
   ]
  },
  {
   "cell_type": "markdown",
   "metadata": {},
   "source": [
    "All these indicators provide evidence for the rejection of the null hypothesis:\n",
    "\n",
    "1) The $p$-value is of the order $10^{-8}$.\n",
    "\n",
    "2) $z$ is well below $-z_\\alpha$.\n",
    "\n",
    "3) $\\mu_0$ is above the upper confidence level."
   ]
  },
  {
   "cell_type": "markdown",
   "metadata": {},
   "source": [
    "Despite the fact that $n > 30$, let us consider a hypothesis testing with t-statistics.\n",
    "\n",
    "Using the notation we introduced previously, the t-statistic can be found with\n",
    "\\begin{equation}\n",
    "t = \\frac{\\hat{\\mu} - \\mu_0}{\\sigma_\\hat{\\mu}} \\, ,\n",
    "\\end{equation}\n",
    "where\n",
    "\\begin{equation}\n",
    "\\sigma_\\hat{\\mu} = \\frac{s}{\\sqrt{n}} \\, .\n",
    "\\end{equation}\n",
    "\n",
    "Following the assumption of a Student's t-distribution, we can use $t$ to compute a $p$-value or, alternatively, an acceptance/rejection region given $\\alpha$. In this case, we have a sample mean $\\hat{\\mu}$ well below the null value $\\mu_0$, leading to $t < 0$. Hence, if we want to compute a $p$-value, we are interested in the *one-tail* region that corresponds to values lower or equal to $t$ in a t-distribution with mean $0$, unit standard deviation and $n-1$ degrees of freedom. We can compute this by direct integration or with $p =$ `stats.t.sf(abs(t), n-1)`.\n",
    "\n",
    "On the other hand, we can use the level of significance $\\alpha = 0.05$ and find a rejection bound with $z_\\alpha$ = `stats.t.ppf(.95, n-1)`. We may use this value to define a rejection region defined by RR $= \\left\\{ t : t < - t_\\alpha \\right\\}$. This gives an *upper confidence bound* $\\hat{\\mu} + t_\\alpha \\, \\sigma_\\hat{\\mu}$, which, if surpassed by $\\mu_0$, forces us to reject the null hypothesis."
   ]
  },
  {
   "cell_type": "code",
   "execution_count": 13,
   "metadata": {},
   "outputs": [
    {
     "name": "stdout",
     "output_type": "stream",
     "text": [
      "The standard error is 0.06430441683789101 °F.\n",
      "The t-statistic is  -5.454823292364079 .\n",
      "The corresponding p-value is  1.2053160207804971e-07 .\n",
      "The upper confidence bound for a level of significance of 0.05 is  98.35576721432666 °F.\n",
      "This corresponds to a rejection bound t_alpha of 1.6567515939762396 .\n"
     ]
    }
   ],
   "source": [
    "standard_error = std_sample / n**(1/2)\n",
    "\n",
    "t = (mu_sample - mu_0) / standard_error\n",
    "\n",
    "p_val = stats.t.sf(abs(t), n-1)\n",
    "                        \n",
    "t_alpha = stats.t.ppf(.95, n-1)\n",
    "                        \n",
    "upper_confidence_bound = mu_sample + t_alpha * standard_error\n",
    "\n",
    "print('The standard error is', standard_error, '°F.')\n",
    "print('The t-statistic is ', t , '.')\n",
    "print('The corresponding p-value is ', p_val , '.')\n",
    "print('The upper confidence bound for a level of significance of 0.05 is ', upper_confidence_bound , '°F.')\n",
    "print('This corresponds to a rejection bound t_alpha of', t_alpha, '.')"
   ]
  },
  {
   "cell_type": "markdown",
   "metadata": {},
   "source": [
    "If we compare these results with the z-statistic approach, we notice that $z$ and $t$ are the same since we are using the same expression for the standard error. While the remaining quantities depend on the probability distribution, the fact is that the number of degrees of freedom is really high, and therefore the normal and t distributions are similar. The differences are not significant but one can notice that the upper confidence bound is slightly greater in the case of the t-statistic."
   ]
  },
  {
   "cell_type": "markdown",
   "metadata": {},
   "source": [
    "4. We will draw a small sample of the data of size 10 and compute its correspondend basic estimators:"
   ]
  },
  {
   "cell_type": "code",
   "execution_count": 25,
   "metadata": {},
   "outputs": [],
   "source": [
    "small_sample = np.random.choice(temp_array, size=10)"
   ]
  },
  {
   "cell_type": "code",
   "execution_count": 26,
   "metadata": {},
   "outputs": [
    {
     "name": "stdout",
     "output_type": "stream",
     "text": [
      "The mean of the small sample is 98.39999999999999 °F.\n",
      "The standard deviation of the small sample is 0.7378647873726188 °F.\n"
     ]
    }
   ],
   "source": [
    "mu_sample = np.mean(small_sample)\n",
    "std_sample = np.std(small_sample,ddof=1)\n",
    "n = len(small_sample)\n",
    "\n",
    "print('The mean of the small sample is', mu_sample, '°F.')\n",
    "print('The standard deviation of the small sample is', std_sample, '°F.')"
   ]
  },
  {
   "cell_type": "markdown",
   "metadata": {},
   "source": [
    "Since this small sample has less than 30 points, we should use t-statistics. We will apply both tests anyway as demanded. We start with the z-statistic. Notice that for the z-test we pick the standard deviation of the original sample of size 130 to compute the standard error. This is because we expect that one to be a better approximation of the standard deviation of the population."
   ]
  },
  {
   "cell_type": "code",
   "execution_count": 27,
   "metadata": {},
   "outputs": [
    {
     "name": "stdout",
     "output_type": "stream",
     "text": [
      "The standard error is 0.23185287214782593 °F.\n",
      "The z-statistic is  -0.8626160122462742 .\n",
      "The corresponding p-value is  0.19417431182063538 .\n",
      "The upper confidence bound for a level of significance of 0.05 is  98.78136403767147 °F.\n",
      "This corresponds to a rejection bound z_alpha of 1.6448536269514722 .\n"
     ]
    }
   ],
   "source": [
    "# We pick the standard deviation of the original sample!\n",
    "\n",
    "standard_error =  np.std(df['temperature'],ddof=1) / n**(1/2)\n",
    "\n",
    "z = (mu_sample - mu_0) / standard_error\n",
    "\n",
    "p_val = stats.norm.sf(abs(z))\n",
    "                        \n",
    "z_alpha = stats.norm.ppf(.95)\n",
    "                        \n",
    "upper_confidence_bound = mu_sample + z_alpha * standard_error\n",
    "\n",
    "print('The standard error is', standard_error, '°F.')\n",
    "print('The z-statistic is ', z , '.')\n",
    "print('The corresponding p-value is ', p_val , '.')\n",
    "print('The upper confidence bound for a level of significance of 0.05 is ', upper_confidence_bound , '°F.')\n",
    "print('This corresponds to a rejection bound z_alpha of', z_alpha, '.')"
   ]
  },
  {
   "cell_type": "code",
   "execution_count": 28,
   "metadata": {},
   "outputs": [
    {
     "name": "stdout",
     "output_type": "stream",
     "text": [
      "The standard error is 0.23333333333333237 °F.\n",
      "The t-statistic is  -0.8571428571428729 .\n",
      "The corresponding p-value is  0.20680344108488458 .\n",
      "The upper confidence bound for a level of significance of 0.05 is  98.8277263509525 °F.\n",
      "This corresponds to a rejection bound t_alpha of 1.8331129326536335 .\n"
     ]
    }
   ],
   "source": [
    "standard_error = std_sample / n**(1/2)\n",
    "\n",
    "t = (mu_sample - mu_0) / standard_error\n",
    "\n",
    "p_val = stats.t.sf(abs(t), n-1)\n",
    "                        \n",
    "t_alpha = stats.t.ppf(.95, n-1)\n",
    "                        \n",
    "upper_confidence_bound = mu_sample + t_alpha * standard_error\n",
    "\n",
    "print('The standard error is', standard_error, '°F.')\n",
    "print('The t-statistic is ', t , '.')\n",
    "print('The corresponding p-value is ', p_val , '.')\n",
    "print('The upper confidence bound for a level of significance of 0.05 is ', upper_confidence_bound , '°F.')\n",
    "print('This corresponds to a rejection bound t_alpha of', t_alpha, '.')"
   ]
  },
  {
   "cell_type": "markdown",
   "metadata": {},
   "source": [
    "The results in terms of the hypothesis testing can vary notably depending on the subsample. Nevertheless, one potential difference may come from the distinct standard errors, due to the use of different standard deviations in its computation that we justified previously. It is possible to find subsamples that lead to rejection of the null hypthesis as well as subsamples that do not allow us to reject it. On the other hand, $z_\\alpha$ and $t_\\alpha$ are independent of the subsample, with $t_\\alpha$ having the highest value. This menas that if $z$ and $t$ happen to be similar, a t-test will provide a smaller rejection region than the z-test. It would be interesting to draw randomly several subsamples systematically to study the distribution of t-statistics and/or p-values.\n",
    "\n",
    "5. We will compute confidence intervals with distinct approaches for the distribution of temperatures. We will use a 0.05 level of significance, computing confidence intervals of 95%. While this choice is arbitrary, in the context of the problem, picking a small confidence interval would have a priority: false positives are probably preferred over missing an abnormal temperature (although both can lead to misdiagnosis). With the estimators of the original sample, we can:\n",
    "\n",
    "1) take a bootstrap approach, and pick randomly a single point of the data set 10000 times, and compute the 2.5 and 97.5 percentiles,\n",
    "\n",
    "2) use the formulas for standard error (for a single draw, i.e. the standard deviation $s$) and $z_\\alpha$ to compute $\\hat{\\mu} \\pm z_\\alpha \\, s$,\n",
    "\n",
    "3) use the function `stats.norm.interval`, which effectively computes the same values as 2)."
   ]
  },
  {
   "cell_type": "code",
   "execution_count": 18,
   "metadata": {},
   "outputs": [
    {
     "name": "stdout",
     "output_type": "stream",
     "text": [
      "[96.7 99.5]\n",
      "96.81221818540308 99.68624335305842\n",
      "(96.81221818540308, 99.68624335305842)\n"
     ]
    }
   ],
   "source": [
    "mu_sample = np.mean(temp_array)\n",
    "\n",
    "std_sample = np.std(temp_array,ddof=1)\n",
    "\n",
    "n = len(temp_array)\n",
    "\n",
    "z_alpha = stats.norm.ppf(.975)\n",
    "\n",
    "print(np.percentile(np.random.choice(temp_array, size=10000),[2.5,97.5]))\n",
    "\n",
    "print(mu_sample - z_alpha * std_sample , mu_sample + z_alpha * std_sample)\n",
    "\n",
    "print(stats.norm.interval(0.95, loc=mu_sample, scale=std_sample))"
   ]
  },
  {
   "cell_type": "markdown",
   "metadata": {},
   "source": [
    "6. We can pick as null hypthesis the equality of the mean temperatures for females and males, say $\\mu_1 = \\mu_2$. As alternative hypothesis, we pick $\\mu_1 \\neq \\mu_2$. We work again with a significance level of 0.05. First, we select each set from the dataframes:"
   ]
  },
  {
   "cell_type": "code",
   "execution_count": 19,
   "metadata": {},
   "outputs": [
    {
     "data": {
      "text/plain": [
       "count     65.000000\n",
       "mean      98.393846\n",
       "std        0.743488\n",
       "min       96.400000\n",
       "25%       98.000000\n",
       "50%       98.400000\n",
       "75%       98.800000\n",
       "max      100.800000\n",
       "Name: temperature, dtype: float64"
      ]
     },
     "execution_count": 19,
     "metadata": {},
     "output_type": "execute_result"
    }
   ],
   "source": [
    "temp_F_array = df['temperature'][df['gender']=='F'].values\n",
    "\n",
    "df['temperature'][df['gender']=='F'].describe()"
   ]
  },
  {
   "cell_type": "code",
   "execution_count": 20,
   "metadata": {},
   "outputs": [
    {
     "data": {
      "text/plain": [
       "count    65.000000\n",
       "mean     98.104615\n",
       "std       0.698756\n",
       "min      96.300000\n",
       "25%      97.600000\n",
       "50%      98.100000\n",
       "75%      98.600000\n",
       "max      99.500000\n",
       "Name: temperature, dtype: float64"
      ]
     },
     "execution_count": 20,
     "metadata": {},
     "output_type": "execute_result"
    }
   ],
   "source": [
    "temp_M_array = df['temperature'][df['gender']=='M'].values\n",
    "\n",
    "df['temperature'][df['gender']=='M'].describe()"
   ]
  },
  {
   "cell_type": "markdown",
   "metadata": {},
   "source": [
    "In order to perform a bootstrap analysis, we translate the arrays with the data sets so that the null hypothesis is true, picking the mean of the aggregated set as the common mean. Then we draw replicates with the mean as the target statistic and compute the difference. The $p$-value then corresponds to all the points with mean differences bigger or equal than the observed mean difference:"
   ]
  },
  {
   "cell_type": "code",
   "execution_count": 21,
   "metadata": {},
   "outputs": [
    {
     "name": "stdout",
     "output_type": "stream",
     "text": [
      "p =  0.02106\n"
     ]
    }
   ],
   "source": [
    "# Make arrays of translated temperatures\n",
    "translated_temp_F_array = temp_F_array - np.mean(temp_F_array) + np.mean(df['temperature'])\n",
    "translated_temp_M_array = temp_M_array - np.mean(temp_M_array) + np.mean(df['temperature'])\n",
    "\n",
    "# Take bootstrap replicates of translated_temp_array\n",
    "bs_replicates_F = draw_bs_reps(translated_temp_F_array, np.mean, 100000)\n",
    "bs_replicates_M = draw_bs_reps(translated_temp_M_array, np.mean, 100000)\n",
    "\n",
    "# Take difference between replicates\n",
    "bf_replicates_diff = np.absolute(bs_replicates_F - bs_replicates_M)\n",
    "\n",
    "\n",
    "# Compute p-value: p\n",
    "p = np.sum(bf_replicates_diff >= np.absolute(np.mean(temp_F_array) - np.mean(temp_M_array))) / len(bf_replicates_diff)\n",
    "\n",
    "# Print the p-value\n",
    "print('p = ', p)"
   ]
  },
  {
   "cell_type": "markdown",
   "metadata": {},
   "source": [
    "We see that the null hypothesis should be rejected for our significance level. Had we picked $\\alpha = 0.01$, we would not have been able to reject it.\n",
    "\n",
    "Let us follow now the z-statistics approach, as we have large sets. The number $z$ of standard errors $\\sigma_{\\Delta \\hat{\\mu}}$ between the estimator for the difference of the means $\\Delta \\hat{\\mu}$ and the null hypothesis value $\\Delta \\mu_0$ is given by\n",
    "\\begin{equation}\n",
    "z = \\frac{\\Delta \\hat{\\mu} - \\Delta \\mu_0}{\\sigma_{\\Delta \\hat{\\mu}}} \\, ,\n",
    "\\end{equation}\n",
    "where\n",
    "\\begin{equation}\n",
    "\\sigma_{\\Delta \\hat{\\mu}} = \\sqrt{\\frac{\\sigma^2_1}{n_1} + \\frac{\\sigma^2_2}{n_2}} \\approx \\sqrt{\\frac{s^2_1}{n_1} + \\frac{s^2_2}{n_2}} \\, .\n",
    "\\end{equation}\n",
    "\n",
    "As we did before, following the assumption of a large, independent and normal distribution, we can use $z$ to compute a $p$-value or, alternatively, an acceptance/rejection region given $\\alpha$. If we want to compute a $p$-value, we are interested in the *two-tails* region that corresponds to difference in the means greater than or equal to the observed mean difference, i.e. $|\\Delta \\hat{\\mu}| \\leq |\\Delta \\mu| $. We can compute this by direct integration or with $p =$ `stats.norm.sf(abs(z))*2`.\n",
    "\n",
    "On the other hand, we can use the level of significance $\\alpha = 0.05$ and find a rejection bound with $z_{\\alpha/2}$ = `stats.norm.ppf(.975)`. We may use this value to define a rejection region defined by RR $= \\left\\{ z : z_{\\alpha/2} < |z| \\right\\}$. This gives an *acceptance interval* $( -z_{\\alpha/2},z_{\\alpha/2} ) $, which, if avoided by $z$, forces us to reject the null hypothesis."
   ]
  },
  {
   "cell_type": "code",
   "execution_count": 22,
   "metadata": {},
   "outputs": [
    {
     "name": "stdout",
     "output_type": "stream",
     "text": [
      "The standard error is 0.12655395041982645 °F.\n",
      "The z-statistic is  2.2854345381656103 .\n",
      "The corresponding p-value is  0.02228736076065755 .\n",
      "The rejection region for a level of significance of 0.05 is given by a z_alpha_halves of 1.959963984540054 .\n"
     ]
    }
   ],
   "source": [
    "standard_error = np.sqrt((np.std(temp_F_array,ddof=1)**2/len(temp_F_array)) + (np.std(temp_M_array,ddof=1)**2/len(temp_M_array)))\n",
    "\n",
    "z = (np.mean(temp_F_array)-np.mean(temp_M_array)) / standard_error\n",
    "\n",
    "p_val = stats.norm.sf(abs(z))*2\n",
    "\n",
    "z_alpha_halves = stats.norm.ppf(.975)\n",
    "\n",
    "print('The standard error is', standard_error, '°F.')\n",
    "print('The z-statistic is ', z , '.')\n",
    "print('The corresponding p-value is ', p_val , '.')\n",
    "print('The rejection region for a level of significance of 0.05 is given by a z_alpha_halves of', z_alpha_halves, '.')"
   ]
  },
  {
   "cell_type": "markdown",
   "metadata": {},
   "source": [
    "We find matching results between both computations of the $p$-value. The hypothesis, as we mentioned, is rejected for a significance level of 0.05.\n",
    "\n",
    "If we follow this line of thought, that is, females having an average normal temperature higher than males, the proportion of women to men should affect the average temperature of the whole population as a whole. It might be possible to reproduce an average value closer to the conventional average with the right proportion, maybe even one closer to the one observed. It should also be pointed out that the standard deviation is also slighty bigger for females. It points to more complexity in the modelling of body temperature than one could have expected at first sight. Other factors can then be taken into account when understanding these data, including those already included in this data set."
   ]
  }
 ],
 "metadata": {
  "kernelspec": {
   "display_name": "Python 3",
   "language": "python",
   "name": "python3"
  },
  "language_info": {
   "codemirror_mode": {
    "name": "ipython",
    "version": 3
   },
   "file_extension": ".py",
   "mimetype": "text/x-python",
   "name": "python",
   "nbconvert_exporter": "python",
   "pygments_lexer": "ipython3",
   "version": "3.6.5"
  }
 },
 "nbformat": 4,
 "nbformat_minor": 1
}
