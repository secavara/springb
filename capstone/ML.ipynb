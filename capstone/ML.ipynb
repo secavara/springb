{
 "cells": [
  {
   "cell_type": "markdown",
   "metadata": {},
   "source": [
    "# Machine Learning Analysis"
   ]
  },
  {
   "cell_type": "markdown",
   "metadata": {},
   "source": [
    "Here we work with the processed data in the file `df_fire_10_11_off.csv`."
   ]
  },
  {
   "cell_type": "code",
   "execution_count": 2,
   "metadata": {},
   "outputs": [],
   "source": [
    "import pandas as pd\n",
    "import numpy as np\n",
    "import matplotlib.pyplot as plt\n",
    "import matplotlib\n",
    "import seaborn as sns\n",
    "import scipy.stats as stats\n",
    "from PIL import Image\n",
    "from datetime import date, timedelta\n",
    "from scipy.stats import binom\n",
    "\n",
    "import json\n",
    "from pandas.io.json import json_normalize\n",
    "\n",
    "plt.rcParams.update({'errorbar.capsize': 2})"
   ]
  },
  {
   "cell_type": "code",
   "execution_count": 5,
   "metadata": {},
   "outputs": [
    {
     "data": {
      "text/html": [
       "<div>\n",
       "<style scoped>\n",
       "    .dataframe tbody tr th:only-of-type {\n",
       "        vertical-align: middle;\n",
       "    }\n",
       "\n",
       "    .dataframe tbody tr th {\n",
       "        vertical-align: top;\n",
       "    }\n",
       "\n",
       "    .dataframe thead th {\n",
       "        text-align: right;\n",
       "    }\n",
       "</style>\n",
       "<table border=\"1\" class=\"dataframe\">\n",
       "  <thead>\n",
       "    <tr style=\"text-align: right;\">\n",
       "      <th></th>\n",
       "      <th>Type</th>\n",
       "      <th>Datetime</th>\n",
       "      <th>Latitude</th>\n",
       "      <th>Longitude</th>\n",
       "      <th>C_gauge</th>\n",
       "      <th>Off_Day</th>\n",
       "    </tr>\n",
       "  </thead>\n",
       "  <tbody>\n",
       "    <tr>\n",
       "      <th>0</th>\n",
       "      <td>Auto Fire Alarm</td>\n",
       "      <td>2010-12-07</td>\n",
       "      <td>47.608434</td>\n",
       "      <td>-122.338125</td>\n",
       "      <td>RG11</td>\n",
       "      <td>0</td>\n",
       "    </tr>\n",
       "    <tr>\n",
       "      <th>1</th>\n",
       "      <td>Car Fire</td>\n",
       "      <td>2010-12-05</td>\n",
       "      <td>47.655047</td>\n",
       "      <td>-122.381130</td>\n",
       "      <td>RG12</td>\n",
       "      <td>1</td>\n",
       "    </tr>\n",
       "    <tr>\n",
       "      <th>2</th>\n",
       "      <td>Auto Fire Alarm</td>\n",
       "      <td>2010-11-26</td>\n",
       "      <td>47.621113</td>\n",
       "      <td>-122.358044</td>\n",
       "      <td>RG11</td>\n",
       "      <td>1</td>\n",
       "    </tr>\n",
       "    <tr>\n",
       "      <th>3</th>\n",
       "      <td>Auto Fire Alarm</td>\n",
       "      <td>2010-11-25</td>\n",
       "      <td>47.607266</td>\n",
       "      <td>-122.332451</td>\n",
       "      <td>RG20_25</td>\n",
       "      <td>1</td>\n",
       "    </tr>\n",
       "    <tr>\n",
       "      <th>4</th>\n",
       "      <td>Automatic Fire Alarm False</td>\n",
       "      <td>2011-03-01</td>\n",
       "      <td>47.613611</td>\n",
       "      <td>-122.331944</td>\n",
       "      <td>RG11</td>\n",
       "      <td>0</td>\n",
       "    </tr>\n",
       "  </tbody>\n",
       "</table>\n",
       "</div>"
      ],
      "text/plain": [
       "                         Type   Datetime   Latitude   Longitude  C_gauge  \\\n",
       "0             Auto Fire Alarm 2010-12-07  47.608434 -122.338125     RG11   \n",
       "1                    Car Fire 2010-12-05  47.655047 -122.381130     RG12   \n",
       "2             Auto Fire Alarm 2010-11-26  47.621113 -122.358044     RG11   \n",
       "3             Auto Fire Alarm 2010-11-25  47.607266 -122.332451  RG20_25   \n",
       "4  Automatic Fire Alarm False 2011-03-01  47.613611 -122.331944     RG11   \n",
       "\n",
       "   Off_Day  \n",
       "0        0  \n",
       "1        1  \n",
       "2        1  \n",
       "3        1  \n",
       "4        0  "
      ]
     },
     "execution_count": 5,
     "metadata": {},
     "output_type": "execute_result"
    }
   ],
   "source": [
    "df_fire_10_11_off = pd.read_csv('processed_data/df_fire_10_11_off.csv', parse_dates = ['Datetime'])\n",
    "\n",
    "df_fire_10_11_off.head()"
   ]
  },
  {
   "cell_type": "code",
   "execution_count": 6,
   "metadata": {},
   "outputs": [
    {
     "data": {
      "text/plain": [
       "Timestamp('2010-12-07 00:00:00')"
      ]
     },
     "execution_count": 6,
     "metadata": {},
     "output_type": "execute_result"
    }
   ],
   "source": [
    "df_fire_10_11_off.Datetime.iloc[0]"
   ]
  },
  {
   "cell_type": "code",
   "execution_count": 4,
   "metadata": {},
   "outputs": [
    {
     "data": {
      "text/plain": [
       "count                5065\n",
       "unique                 29\n",
       "top       Auto Fire Alarm\n",
       "freq                 3062\n",
       "Name: Type, dtype: object"
      ]
     },
     "execution_count": 4,
     "metadata": {},
     "output_type": "execute_result"
    }
   ],
   "source": [
    "df_fire_10_11_off['Type'].describe()"
   ]
  },
  {
   "cell_type": "code",
   "execution_count": null,
   "metadata": {},
   "outputs": [],
   "source": [
    "df_fire_10_11_off['Type'].unique()"
   ]
  },
  {
   "cell_type": "code",
   "execution_count": null,
   "metadata": {},
   "outputs": [],
   "source": [
    "df_fire_10_11_off[df_fire_10_11_off['Type']== 'Automatic Fire Alarm False'].shape"
   ]
  }
 ],
 "metadata": {
  "kernelspec": {
   "display_name": "Python 3",
   "language": "python",
   "name": "python3"
  },
  "language_info": {
   "codemirror_mode": {
    "name": "ipython",
    "version": 3
   },
   "file_extension": ".py",
   "mimetype": "text/x-python",
   "name": "python",
   "nbconvert_exporter": "python",
   "pygments_lexer": "ipython3",
   "version": "3.6.5"
  }
 },
 "nbformat": 4,
 "nbformat_minor": 2
}
