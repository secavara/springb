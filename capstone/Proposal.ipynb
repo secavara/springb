{
 "cells": [
  {
   "cell_type": "markdown",
   "metadata": {},
   "source": [
    "# Capstone Project Proposal\n",
    "\n",
    "## Problem:\n",
    "Can we establish trends in 911 fire calls in Seattle to predict and find patterns, or correlate them with factors such as rain patterns?\n",
    "\n",
    "## Client(s):\n",
    "Governmental agencies might be interested in this study to refine strategies that pin point influential factors in the manifestation of fires in Seattle. Insurance agencies might also find this relevant. Ultimately, the objective is to reduce the significant human and financial cost generally associated with fires. Reducing the number of fires will ultimately allow the police, fire department and other dependencies to divert their resources in other issues faced by the city and their inhabitants.\n",
    "\n",
    "## Data Sources:\n",
    "  ### [Seattle Observed Monthly Rain Gauge Accumulations](https://www.kaggle.com/city-of-seattle/seattle-observed-monthly-rain-gauge-accumulations/version/16)\n",
    "These monthly data goes from October 2002 to May 2017, containing measurements of 17 rain gauges located throughout Seattle city limits. Here we use version 16 of this data set.\n",
    "\n",
    "\n",
    "  ### [Seattle Fire 911 calls](https://data.seattle.gov/Public-Safety/Seattle-Fire-911-Calls-from-3-1-2010-to-3-1-2011/d9j6-s59d)\n",
    "Fire 911 calls from Seattle, from 2010 to 2011. It contains latitute and longitude of the originating location of the calls, in addition to date, time and type of call. This version corresponds to the September 2, 2018 update.\n",
    "\n",
    "Both sets of data are freely available for download, modification and distribution, under the license [CC0 1.0](https://creativecommons.org/publicdomain/zero/1.0/legalcode).\n",
    "\n",
    "## Solution Approach:\n",
    "It is possible to organize the 911-calls data by position, in such a way that we assign them to the nearest rain gauge of the first data set. Hence, each rain gauge will define a 'region' in the city. By studying the rain patterns and the number, type and frequency of data calls for each 'rain gauge region', we may be able to find trends and possibly establish correlations which may be specific to sectors of the city or maybe effects that can be noticed at the level of the whole town. We can also study the effect of time of the day in the amount of fire emergency calls. Eventually, we might introduce other data such as holiday dates or population density, which are more directly related to human activity. It might also be possible to study rain patterns on their own.\n",
    "\n",
    "## Deliverables:\n",
    "We will summarize our findings in a report and a presentation. All the code associated with the process of wrangling and analyzing the data will also be available. Statistics will be part of the final product, together with graphical representations, and ideally we will find models to reproduce and potentially predict events and behaviors."
   ]
  }
 ],
 "metadata": {
  "kernelspec": {
   "display_name": "Python 3",
   "language": "python",
   "name": "python3"
  },
  "language_info": {
   "codemirror_mode": {
    "name": "ipython",
    "version": 3
   },
   "file_extension": ".py",
   "mimetype": "text/x-python",
   "name": "python",
   "nbconvert_exporter": "python",
   "pygments_lexer": "ipython3",
   "version": "3.6.5"
  }
 },
 "nbformat": 4,
 "nbformat_minor": 2
}
