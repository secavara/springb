{
 "cells": [
  {
   "cell_type": "markdown",
   "metadata": {},
   "source": [
    "# Examining Racial Discrimination in the US Job Market\n",
    "\n",
    "### Background\n",
    "Racial discrimination continues to be pervasive in cultures throughout the world. Researchers examined the level of racial discrimination in the United States labor market by randomly assigning identical résumés to black-sounding or white-sounding names and observing the impact on requests for interviews from employers.\n",
    "\n",
    "### Data\n",
    "In the dataset provided, each row represents a resume. The 'race' column has two values, 'b' and 'w', indicating black-sounding and white-sounding. The column 'call' has two values, 1 and 0, indicating whether the resume received a call from employers or not.\n",
    "\n",
    "Note that the 'b' and 'w' values in race are assigned randomly to the resumes when presented to the employer."
   ]
  },
  {
   "cell_type": "markdown",
   "metadata": {},
   "source": [
    "### Exercises\n",
    "You will perform a statistical analysis to establish whether race has a significant impact on the rate of callbacks for resumes.\n",
    "\n",
    "Answer the following questions **in this notebook below and submit to your Github account**. \n",
    "\n",
    "   1. What test is appropriate for this problem? Does CLT apply?\n",
    "   2. What are the null and alternate hypotheses?\n",
    "   3. Compute margin of error, confidence interval, and p-value. Try using both the bootstrapping and the frequentist statistical approaches.\n",
    "   4. Write a story describing the statistical significance in the context or the original problem.\n",
    "   5. Does your analysis mean that race/name is the most important factor in callback success? Why or why not? If not, how would you amend your analysis?\n",
    "\n",
    "You can include written notes in notebook cells using Markdown: \n",
    "   - In the control panel at the top, choose Cell > Cell Type > Markdown\n",
    "   - Markdown syntax: http://nestacms.com/docs/creating-content/markdown-cheat-sheet\n",
    "\n",
    "\n",
    "#### Resources\n",
    "+ Experiment information and data source: http://www.povertyactionlab.org/evaluation/discrimination-job-market-united-states\n",
    "+ Scipy statistical methods: http://docs.scipy.org/doc/scipy/reference/stats.html \n",
    "+ Markdown syntax: http://nestacms.com/docs/creating-content/markdown-cheat-sheet\n",
    "+ Formulas for the Bernoulli distribution: https://en.wikipedia.org/wiki/Bernoulli_distributio"
   ]
  },
  {
   "cell_type": "code",
   "execution_count": 1,
   "metadata": {},
   "outputs": [],
   "source": [
    "import pandas as pd\n",
    "import numpy as np\n",
    "import matplotlib.pyplot as plt\n",
    "import seaborn as sns\n",
    "import scipy.stats as stats\n",
    "from math import factorial as Fact"
   ]
  },
  {
   "cell_type": "code",
   "execution_count": 2,
   "metadata": {},
   "outputs": [],
   "source": [
    "data = pd.io.stata.read_stata('data/us_job_market_discrimination.dta')"
   ]
  },
  {
   "cell_type": "markdown",
   "metadata": {},
   "source": [
    "Let us first take a look of the data. We build arrays of the 'call' column for each race value:"
   ]
  },
  {
   "cell_type": "code",
   "execution_count": 3,
   "metadata": {},
   "outputs": [],
   "source": [
    "w = data['call'][data.race=='w'].values\n",
    "b = data['call'][data.race=='b'].values"
   ]
  },
  {
   "cell_type": "markdown",
   "metadata": {},
   "source": [
    "In this case, both arrays have the same size. Also, we do not have null values."
   ]
  },
  {
   "cell_type": "code",
   "execution_count": 4,
   "metadata": {},
   "outputs": [
    {
     "name": "stdout",
     "output_type": "stream",
     "text": [
      "True\n"
     ]
    }
   ],
   "source": [
    "print(len(b)==len(w))"
   ]
  },
  {
   "cell_type": "markdown",
   "metadata": {},
   "source": [
    "We can take a first look of the porportions of calls for each race and plot this info:"
   ]
  },
  {
   "cell_type": "code",
   "execution_count": 5,
   "metadata": {},
   "outputs": [
    {
     "name": "stdout",
     "output_type": "stream",
     "text": [
      "Calls for w: {'Not called': 2200, 'Called': 235} . Proportion of calls : 0.09650924024640657 .\n",
      "Calls for b: {'Not called': 2278, 'Called': 157} . Proportion of calls : 0.06447638603696099 .\n"
     ]
    }
   ],
   "source": [
    "n = len(b)\n",
    "\n",
    "vals_1, w_cs = np.unique(w, return_counts=True)\n",
    "vals_2, b_cs = np.unique(b, return_counts=True)\n",
    "\n",
    "print('Calls for w:',dict(zip(['Not called','Called'], w_cs)),'. Proportion of calls :',w_cs[1]/n,'.')\n",
    "print('Calls for b:',dict(zip(['Not called','Called'], b_cs)),'. Proportion of calls :',b_cs[1]/n,'.')"
   ]
  },
  {
   "cell_type": "code",
   "execution_count": 6,
   "metadata": {},
   "outputs": [
    {
     "data": {
      "image/png": "[encoded data removed]",
      "text/plain": [
       "<Figure size 432x288 with 1 Axes>"
      ]
     },
     "metadata": {},
     "output_type": "display_data"
    }
   ],
   "source": [
    "pd.crosstab(data.race, data.call).plot.barh(stacked=True,color=['grey','blue'], alpha=0.4, width=0.9)\n",
    "plt.legend(labels=['Not called','Called'], loc='center left', bbox_to_anchor=(1.0, 0.5))\n",
    "plt.ylabel('Race')\n",
    "plt.xlabel('Number of resumes')\n",
    "plt.show()"
   ]
  },
  {
   "cell_type": "markdown",
   "metadata": {},
   "source": [
    "As we can see, there is a difference of about 3.2% between the number of calls for each race.\n",
    "\n",
    "Let us take the data of called resumes as successes. We may assume that the data is random, following the claims on the origin of the sample. And we can assume that the data is independent as well, since we expect to discuss statistics of a population larger that 10 times this sample size. In addition, since the number of successes and failures is large in both samples, we are safe to use z-statistics.\n",
    "\n",
    "The naturall null hypothesis is to assume that the proportions are the same, that is $p_b = p_w$, and, after looking at the data, we may take $p_b < p_w$ as an alternative hypothesis. Let us take a level of significance of 0.05.\n",
    "\n",
    "Since we are using z-statistics, we have to first compute the standard error that corresponds to this case. In the literature, one can find two ways of computing this value, although we will see that both give similar results. If the proportions of successes in the two samples are $\\hat{p}_1$ and $\\hat{p}_2$, with sample sizes $n_1$ and $n_2$ respectively, then we can compute the standard error as\n",
    "\\begin{equation}\n",
    "\\sigma_{\\Delta \\hat{p}} = \\sqrt{\\frac{\\hat{p}_1 (1-\\hat{p}_1)}{n_1} + \\frac{\\hat{p}_2 (1-\\hat{p}_2)}{n_2}} \\, .\n",
    "\\end{equation}\n",
    "Other references use\n",
    "\\begin{equation}\n",
    "\\sigma_{\\Delta \\hat{p}} = \\sqrt{p^* (1-p^*)\\left(\\frac{1}{n_1}+\\frac{1}{n_2}\\right)} \\, ,\n",
    "\\end{equation}\n",
    "with\n",
    "\\begin{equation}\n",
    "p^* = \\frac{n_1 \\hat{p}_1 + n_2 \\hat{p}_2}{n_1 + n_2} \\, .\n",
    "\\end{equation}\n",
    "The latter one is an approximation consistent with the null hypothesis of a common proportion $p^*$. In the following computations we use the first expression and we compute $z$, the $p$-value, $z_\\alpha$ and a lower confidence bound. The latter can be read as the minimum true population proportion difference assuming the significance level of 0.05."
   ]
  },
  {
   "cell_type": "code",
   "execution_count": 7,
   "metadata": {},
   "outputs": [
    {
     "name": "stdout",
     "output_type": "stream",
     "text": [
      "The observed difference between the proportion of calls is 0.032032854209445585 .\n",
      "The standard error is 0.0077833705866767544 .\n",
      "The z-statistic is  4.11555043573 .\n",
      "The corresponding p-value is  1.931282603761311e-05 .\n",
      "The lower confidence bound for a level of significance of 0.05 is  0.019230348870042917 .\n",
      "This corresponds to a rejection bound z_alpha of 1.6448536269514722 .\n"
     ]
    }
   ],
   "source": [
    "p1 = w_cs[1]/n\n",
    "p2 = b_cs[1]/n\n",
    "\n",
    "standard_error = np.sqrt(p1*(1-p1)/n + p2*(1-p2)/n)\n",
    "\n",
    "z = (p1 - p2)/standard_error\n",
    "\n",
    "p_val = stats.norm.sf(abs(z))\n",
    "\n",
    "z_alpha = stats.norm.ppf(.95)\n",
    "\n",
    "lower_confidence_bound = p1 - p2 - z_alpha * standard_error\n",
    "\n",
    "print('The observed difference between the proportion of calls is', p1-p2,'.')\n",
    "print('The standard error is', standard_error, '.')\n",
    "print('The z-statistic is ', z , '.')\n",
    "print('The corresponding p-value is ', p_val , '.')\n",
    "print('The lower confidence bound for a level of significance of 0.05 is ', lower_confidence_bound , '.')\n",
    "print('This corresponds to a rejection bound z_alpha of', z_alpha, '.')"
   ]
  },
  {
   "cell_type": "markdown",
   "metadata": {},
   "source": [
    "As we see, we are lead to reject the null hypothesis. The other formula for the standard error gives a similar result:"
   ]
  },
  {
   "cell_type": "code",
   "execution_count": 8,
   "metadata": {},
   "outputs": [
    {
     "data": {
      "text/plain": [
       "0.007796894036170457"
      ]
     },
     "execution_count": 8,
     "metadata": {},
     "output_type": "execute_result"
    }
   ],
   "source": [
    "p_star = (w_cs[1]+b_cs[1])/(2*n)\n",
    "\n",
    "standard_error_2 = np.sqrt(p_star*(1-p_star)*(1/n + 1/n))\n",
    "\n",
    "standard_error_2"
   ]
  },
  {
   "cell_type": "markdown",
   "metadata": {},
   "source": [
    "We can also test this hypothesis with the Fisher's exact test (see [link](https://en.wikipedia.org/wiki/Fisher%27s_exact_test)). Despite some controversies, it allows us to find a $p$-value with a similar order of magnitude. In terms of the notation that we have introduced, it is given by\n",
    "\\begin{equation}\n",
    "p_{\\mathrm{Fisher}} = \\frac{(\\hat{p}_1 n_1 + \\hat{p}_2 n_2)! \\ \\ [(1-\\hat{p}_1) n_1 + (1-\\hat{p}_2) n_2]! \\ \\ n_1 ! \\ \\ n_2 !}{(\\hat{p}_1 n_1)! \\ \\ (\\hat{p}_2 n_2)! \\ \\ [(1-\\hat{p}_1) n_1]! \\ \\ [(1-\\hat{p}_2) n_2]! \\ \\ (n_1+n_2)!} \\, .\n",
    "\\end{equation}"
   ]
  },
  {
   "cell_type": "code",
   "execution_count": 9,
   "metadata": {},
   "outputs": [
    {
     "data": {
      "text/plain": [
       "8.794478373789367e-06"
      ]
     },
     "execution_count": 9,
     "metadata": {},
     "output_type": "execute_result"
    }
   ],
   "source": [
    "Fact(b_cs[0]+w_cs[0])*Fact(b_cs[1]+w_cs[1])*Fact(n)*Fact(n)/(Fact(b_cs[0])*Fact(b_cs[1])*Fact(w_cs[0])*Fact(w_cs[1])*Fact(2*n))"
   ]
  },
  {
   "cell_type": "markdown",
   "metadata": {},
   "source": [
    "We can also take a bootstrap approach for the hypothesis testing. In this case, we do this by concatenating both samples and performing permutation samples of these data, which we split in two to compute bootstrap replicates for the difference of proportion of successes."
   ]
  },
  {
   "cell_type": "code",
   "execution_count": 10,
   "metadata": {},
   "outputs": [],
   "source": [
    "def permutation_sample(data1, data2):\n",
    "    \"\"\"Generate a permutation sample from two data sets.\"\"\"\n",
    "\n",
    "    # Concatenate the data sets: data\n",
    "    data = np.concatenate((data1, data2))\n",
    "\n",
    "    # Permute the concatenated array: permuted_data\n",
    "    permuted_data = np.random.permutation(data)\n",
    "\n",
    "    # Split the permuted array into two: perm_sample_1, perm_sample_2\n",
    "    perm_sample_1 = permuted_data[:len(data1)]\n",
    "    perm_sample_2 = permuted_data[len(data1):]\n",
    "\n",
    "    return perm_sample_1, perm_sample_2\n",
    "\n",
    "def draw_perm_reps(data_1, data_2, func, size=1):\n",
    "    \"\"\"Generate multiple permutation replicates.\"\"\"\n",
    "\n",
    "    # Initialize array of replicates: perm_replicates\n",
    "    perm_replicates = np.empty(size)\n",
    "\n",
    "    for i in range(size):\n",
    "        # Generate permutation sample\n",
    "        perm_sample_1, perm_sample_2 = permutation_sample(data_1, data_2)\n",
    "\n",
    "        # Compute the test statistic\n",
    "        perm_replicates[i] = func(perm_sample_1,perm_sample_2)\n",
    "\n",
    "    return perm_replicates\n",
    "\n",
    "def diff_of_proportions(data_1, data_2):\n",
    "    \"\"\"Difference in proportions of two arrays with success points marked with 1 and failures with 0.\"\"\"\n",
    "\n",
    "    # The difference of proportions of data_1, data_2: diff\n",
    "    diff = np.sum(data_1)/len(data_1) - np.sum(data_2)/len(data_2)\n",
    "\n",
    "    return diff"
   ]
  },
  {
   "cell_type": "code",
   "execution_count": 11,
   "metadata": {},
   "outputs": [
    {
     "name": "stdout",
     "output_type": "stream",
     "text": [
      "p-value = 2e-05\n"
     ]
    }
   ],
   "source": [
    "# Draw 100000 permutation replicates: perm_replicates\n",
    "perm_replicates = draw_perm_reps(w, b, diff_of_proportions, 100000)\n",
    "\n",
    "# Compute p-value: p\n",
    "p = np.sum(perm_replicates >= p1-p2) / len(perm_replicates)\n",
    "\n",
    "# Print the result\n",
    "print('p-value =', p)"
   ]
  },
  {
   "cell_type": "markdown",
   "metadata": {},
   "source": [
    "The resulting $p$-value is consistent with the previous results.\n",
    "\n",
    "If we take percentiles of the bootstrap replicates corresponding to the level of signifcance, we find that, assuming the null hypothesis as true, we should find at most a difference of proportions of 1.5%."
   ]
  },
  {
   "cell_type": "code",
   "execution_count": 12,
   "metadata": {},
   "outputs": [
    {
     "data": {
      "text/plain": [
       "array([-0.01560575,  0.01560575])"
      ]
     },
     "execution_count": 12,
     "metadata": {},
     "output_type": "execute_result"
    }
   ],
   "source": [
    "np.percentile(perm_replicates,[2.5,97.5])"
   ]
  },
  {
   "cell_type": "markdown",
   "metadata": {},
   "source": [
    "This is about half the difference of proportions observed, 3.2%. Taking the data at face value, we would claim that the proportion of success for w is about 1.5 times the porportion of success for b. According to these results, and the level of significance of 0.05, the minimum difference of proportion of successes for the two races is about 2%. This means that, in the best case scenario, $p_w$ is still at least 15% greater than $p_b$.\n",
    "\n",
    "On the other hand, we can investigate the effect of other factors in the succes rate. First, let's take a look of the proportion of succes for groups of same race and level of education:"
   ]
  },
  {
   "cell_type": "code",
   "execution_count": 13,
   "metadata": {},
   "outputs": [
    {
     "data": {
      "image/png": "[encoded data removed]",
      "text/plain": [
       "<Figure size 332.125x288 with 1 Axes>"
      ]
     },
     "metadata": {},
     "output_type": "display_data"
    }
   ],
   "source": [
    "df1 = data[['education','race','call']].groupby(['education','race']).agg({'call': 'sum'})\n",
    "df2 = data[['education','race','call']].groupby(['education','race']).agg({'call': 'count'})\n",
    "\n",
    "df3 = (df1.div(df2, level='education')*100).reset_index().rename(columns={'call': '%_Called','race': 'Race','education': 'Education'})\n",
    "\n",
    "fg = sns.factorplot(x='Education', y='%_Called', hue='Race', data= df3, kind='bar')\n",
    "plt.show()"
   ]
  },
  {
   "cell_type": "markdown",
   "metadata": {},
   "source": [
    "It must be pointed out that some cathegories are not present in this data set, like whites with level of education 0 (called or not called). This means that there are some limitations in the coverage of this data set for this purpose. Nevertheless, we see that when compared with people of similar education, race is still a factor, with similar differences of rate of succes as we observed in the data set as a whole. On the other hand, we find that at least in one level of education, whites do not seem to have an advantage.\n",
    "\n",
    "It is tempting to compare the behavior between different levels of education. We can see that, in many cathegories, whites outperform even when they have less education. On the other hand, in the original discussion of this data set, it is pointed out that job positions are generally specific to one or few levels of education and their availability fluctuates, meaning that there can be a bias as a whole in success rates for distinct levels of education, regardless of applicants race.\n",
    "\n",
    "All together race seems to be a very relevant factor in callback succes and there exists a bias if we fairly consider callback as a definitive indicator of favorability. We are, nevertheless, hesitant to argue it is the most important factor, given our limited analysis of the data. Factors like education or work experience are often determinant in an application, often appearing as minimum requirements. If we compute proportions of success for groups of similar education and work experience (not discriminating according to race), we see that success rates of 16% are reached, well above the ones observed when slicing the data according to race only. We could slice these education and experience data accoridng to race as well, but the data size for each subcathegory becomes small and often vanishes.\n",
    "\n",
    "But, again, as we mentioned, the evidence for race bias is significant."
   ]
  },
  {
   "cell_type": "code",
   "execution_count": 14,
   "metadata": {},
   "outputs": [
    {
     "data": {
      "image/png": "[encoded data removed]",
      "text/plain": [
       "<Figure size 1152x288 with 4 Axes>"
      ]
     },
     "metadata": {},
     "output_type": "display_data"
    }
   ],
   "source": [
    "df1 = data[['yearsexp','education','call']].groupby(['yearsexp','education']).agg({'call': 'sum'})\n",
    "df2 = data[['yearsexp','education','call']].groupby(['yearsexp','education']).agg({'call': 'count'})\n",
    "\n",
    "df3 = (df1.div(df2, level='education')*100).reset_index().rename(columns={'call': '%_Called','yearsexp': 'Years_Exp','education': 'Education'})\n",
    "\n",
    "sns.factorplot(x='Education', y='%_Called', col='Years_Exp', data= df3[df3['Years_Exp'] < 5], kind='bar')\n",
    "plt.show()"
   ]
  }
 ],
 "metadata": {
  "kernelspec": {
   "display_name": "Python 3",
   "language": "python",
   "name": "python3"
  },
  "language_info": {
   "codemirror_mode": {
    "name": "ipython",
    "version": 3
   },
   "file_extension": ".py",
   "mimetype": "text/x-python",
   "name": "python",
   "nbconvert_exporter": "python",
   "pygments_lexer": "ipython3",
   "version": "3.6.5"
  }
 },
 "nbformat": 4,
 "nbformat_minor": 1
}
